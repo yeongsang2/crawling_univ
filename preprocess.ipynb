{
 "cells": [
  {
   "cell_type": "code",
   "execution_count": 102,
   "id": "8b71d59f-0324-41b9-aeb1-4b8522ea2e8d",
   "metadata": {},
   "outputs": [],
   "source": [
    "import json\n",
    "## load dataimport json\n",
    "\n",
    "filename = ''\n",
    "\n",
    "with open(filename, 'r') as file:\n",
    "    data_list = json.load(file)"
   ]
  },
  {
   "cell_type": "code",
   "execution_count": 103,
   "id": "45a2f008-13f5-47b2-a995-d029f3b30a51",
   "metadata": {},
   "outputs": [],
   "source": [
    "import re\n",
    "def clean_str(text):\n",
    "    pattern = '([a-zA-Z0-9_.+-]+@[a-zA-Z0-9-]+\\.[a-zA-Z0-9-.]+)' # E-mail제거\n",
    "    text = re.sub(pattern=pattern, repl='', string=text)\n",
    "    pattern = '([ㄱ-ㅎㅏ-ㅣ]+)'  # 한글 자음, 모음 제거\n",
    "    text = re.sub(pattern=pattern, repl='', string=text)\n",
    "    pattern = '<[^>]*>'         # HTML 태그 제거\n",
    "    text = re.sub(pattern=pattern, repl='', string=text)\n",
    "    pattern = '[^\\w\\s\\n?.]'         # 특수기호제거\n",
    "    text = re.sub(pattern=pattern, repl='', string=text)\n",
    "    text = re.sub('[-=+#/\\:^$@*\\\"※~&%ㆍ!』\\\\‘|\\(\\)\\[\\]\\<\\>`\\'…》]','', string=text)\n",
    "    text = re.sub('\\n', '.', string=text)\n",
    "    text = re.sub(r'\\.{2,}', ' ', text)\n",
    "    \n",
    "    return text \n"
   ]
  },
  {
   "cell_type": "code",
   "execution_count": 104,
   "id": "2da8d37f-75b8-4217-a13d-0f524ff69f3b",
   "metadata": {},
   "outputs": [],
   "source": [
    "def remove_pad(text):\n",
    "    text = text.split()\n",
    "    text = ' '.join(text)\n",
    "    return text"
   ]
  },
  {
   "cell_type": "code",
   "execution_count": 105,
   "id": "63eb73d4-b07c-4fe8-ba06-6bc48e22cbc4",
   "metadata": {},
   "outputs": [],
   "source": [
    "cleaned_data_list = []\n",
    "for data in data_list:\n",
    "    instruction = data['instruction']\n",
    "    instruction = clean_str(instruction)\n",
    "    instruction = remove_pad(instruction)\n",
    "\n",
    "    output = data['output']\n",
    "    output = clean_str(output)\n",
    "    output = remove_pad(output)\n",
    "    cleaned_data_list.append({'instruction': instruction, 'input':'', 'output':output})\n",
    "    "
   ]
  },
  {
   "cell_type": "code",
   "execution_count": 106,
   "id": "cd873d22-e63e-48f6-ba5e-12813fabcfe4",
   "metadata": {},
   "outputs": [],
   "source": [
    "# JSON 파일 저장\n",
    "with open(\"data_cleaned.json\", 'w') as json_file:\n",
    "    json.dump(cleaned_data_list, json_file, ensure_ascii=False, indent=4)\n"
   ]
  },
  {
   "cell_type": "code",
   "execution_count": null,
   "id": "ccb42aa2-f2d2-4947-b563-ae17bbf8e59d",
   "metadata": {},
   "outputs": [],
   "source": []
  }
 ],
 "metadata": {
  "kernelspec": {
   "display_name": "Python 3 (ipykernel)",
   "language": "python",
   "name": "python3"
  },
  "language_info": {
   "codemirror_mode": {
    "name": "ipython",
    "version": 3
   },
   "file_extension": ".py",
   "mimetype": "text/x-python",
   "name": "python",
   "nbconvert_exporter": "python",
   "pygments_lexer": "ipython3",
   "version": "3.9.17"
  }
 },
 "nbformat": 4,
 "nbformat_minor": 5
}
